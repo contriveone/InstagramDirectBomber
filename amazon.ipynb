{
  "nbformat": 4,
  "nbformat_minor": 0,
  "metadata": {
    "colab": {
      "name": "Untitled6.ipynb",
      "provenance": [],
      "toc_visible": true,
      "authorship_tag": "ABX9TyMZ2yge/yokY/Nh+eUJANTf",
      "include_colab_link": true
    },
    "kernelspec": {
      "name": "python3",
      "display_name": "Python 3"
    },
    "language_info": {
      "name": "python"
    }
  },
  "cells": [
    {
      "cell_type": "markdown",
      "metadata": {
        "id": "view-in-github",
        "colab_type": "text"
      },
      "source": [
        "<a href=\"https://colab.research.google.com/github/contriveone/InstagramDirectBomber/blob/english/amazon.ipynb\" target=\"_parent\"><img src=\"https://colab.research.google.com/assets/colab-badge.svg\" alt=\"Open In Colab\"/></a>"
      ]
    },
    {
      "cell_type": "code",
      "execution_count": null,
      "metadata": {
        "id": "YFeAclx1cOzZ"
      },
      "outputs": [],
      "source": [
        "!python /content/add.py"
      ]
    },
    {
      "cell_type": "code",
      "source": [
        "!python /content/update.py"
      ],
      "metadata": {
        "id": "nAd4-nbTeabH"
      },
      "execution_count": null,
      "outputs": []
    },
    {
      "cell_type": "code",
      "source": [
        "!pip install unidecode\n",
        "!pip install arabic_reshaper\n",
        "!pip install python-bidi\n",
        "!pip install openpyxl\n",
        "!pip install hashlib\n",
        "!pip install mechanize\n",
        "!pip install requests"
      ],
      "metadata": {
        "id": "eCOG5FAbe1yg"
      },
      "execution_count": null,
      "outputs": []
    }
  ]
}